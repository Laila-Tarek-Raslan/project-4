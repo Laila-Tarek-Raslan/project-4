{
 "cells": [
  {
   "cell_type": "code",
   "execution_count": null,
   "metadata": {},
   "outputs": [],
   "source": [
    "print(\"\"\"\n",
    "███████▀▀▀░░░░░░░▀▀▀███████\n",
    "████▀░░░░░░░░░░░░░░░░░▀████\n",
    "███│░░░░░░░░░░░░░░░░░░░│███\n",
    "██▌│░░░░░░░░░░░░░░░░░░░│▐██\n",
    "██░└┐░░░░░░░░░░░░░░░░░┌┘░██\n",
    "██░░└┐░░░░░░░░░░░░░░░┌┘░░██\n",
    "██░░┌┘▄▄▄▄▄░░░░░▄▄▄▄▄└┐░░██\n",
    "██▌░│██████▌░░░▐██████│░▐██\n",
    "███░│▐███▀▀░░▄░░▀▀███▌│░███\n",
    "██▀─┘░░░░░░░▐█▌░░░░░░░└─▀██\n",
    "██▄░░░▄▄▄▓░░▀█▀░░▓▄▄▄░░░▄██\n",
    "████▄─┘██▌░░░░░░░▐██└─▄████\n",
    "█████░░▐█─┬┬┬┬┬┬┬─█▌░░█████\n",
    "████▌░░░▀┬┼┼┼┼┼┼┼┬▀░░░▐████\n",
    "█████▄░░░└┴┴┴┴┴┴┴┘░░░▄█████\n",
    "███████▄░░░░░░░░░░░▄███████\n",
    "██████████▄▄▄▄▄▄▄██████████\n",
    "\"\"\")\n",
    "print(\"Welcome to my island🌴\\nThey are tow doors in front of you. a red door and a blue door\")\n",
    "door=input(\"which door do you want to open?\\n \")\n",
    "door=door.lower()\n",
    "\n",
    "if door==\"red\":\n",
    "    print(\"Grate! now you Entered a room.\\nyou found three boxes: 1)white🎁  2)black🎁  3)green🎁\\n\")\n",
    "\n",
    "    box=input(\"which box do you open?\\n\")  \n",
    "    box=box.lower()\n",
    "    if box ==\"white\":\n",
    "          print(\"Oops! you opend a box filled with snakes🐍🐍🐍\")\n",
    "\n",
    "    elif box==\"black\":\n",
    "          print(\"Oops! you opend a box filled with spiders🕷🕷🕷\")\n",
    "    else:\n",
    "     print(\"congratulations! you found the treasure! 💰💰💰\")       \n",
    "\n",
    "elif door ==\"blue\":\n",
    "          print(\"Oops!you chose the crocodaile door.\\nGame over!🐊🐊🐊\") \n",
    "else:\n",
    "     print(\"invalid choice!💁💁\")     "
   ]
  }
 ],
 "metadata": {
  "kernelspec": {
   "display_name": "Python 3",
   "language": "python",
   "name": "python3"
  },
  "language_info": {
   "codemirror_mode": {
    "name": "ipython",
    "version": 3
   },
   "file_extension": ".py",
   "mimetype": "text/x-python",
   "name": "python",
   "nbconvert_exporter": "python",
   "pygments_lexer": "ipython3",
   "version": "3.9.9"
  }
 },
 "nbformat": 4,
 "nbformat_minor": 2
}
